{
  "nbformat": 4,
  "nbformat_minor": 5,
  "metadata": {
    "colab": {
      "name": "scratch_2.ipynb",
      "provenance": [],
      "machine_shape": "hm"
    },
    "kernelspec": {
      "display_name": "Python 3",
      "language": "python",
      "name": "python3"
    },
    "language_info": {
      "codemirror_mode": {
        "name": "ipython",
        "version": 3
      },
      "file_extension": ".py",
      "mimetype": "text/x-python",
      "name": "python",
      "nbconvert_exporter": "python",
      "pygments_lexer": "ipython3",
      "version": "3.8.10"
    },
    "accelerator": "TPU"
  },
  "cells": [
    {
      "cell_type": "code",
      "metadata": {
        "colab": {
          "base_uri": "https://localhost:8080/"
        },
        "id": "KDYOCXlgvg2R",
        "outputId": "a72471a2-a02a-4e53-e93d-a394829b8bb2"
      },
      "source": [
        "from google.colab import drive\n",
        "drive.mount('/content/drive', force_remount=True)"
      ],
      "id": "KDYOCXlgvg2R",
      "execution_count": 1,
      "outputs": [
        {
          "output_type": "stream",
          "name": "stdout",
          "text": [
            "Mounted at /content/drive\n"
          ]
        }
      ]
    },
    {
      "cell_type": "code",
      "metadata": {
        "id": "X4EvVlChvl8r"
      },
      "source": [
        "drive_path = '/content/drive/MyDrive/general_assembly/code/capstone/arabic_characters'"
      ],
      "id": "X4EvVlChvl8r",
      "execution_count": 2,
      "outputs": []
    },
    {
      "cell_type": "code",
      "metadata": {
        "id": "I1RTWwRnwcRo"
      },
      "source": [
        "import pickle\n",
        "\n",
        "import numpy as np\n",
        "import matplotlib.pyplot as plt\n",
        "\n",
        "from tensorflow.keras.models import Sequential\n",
        "from tensorflow.keras.layers import Conv2D, MaxPooling2D, Flatten, Dense, Dropout, BatchNormalization, Activation\n",
        "from tensorflow.keras.regularizers import l2\n",
        "\n",
        "np.random.seed(42)"
      ],
      "id": "I1RTWwRnwcRo",
      "execution_count": 13,
      "outputs": []
    },
    {
      "cell_type": "code",
      "metadata": {
        "id": "nH4EfiD7wia0"
      },
      "source": [
        "with open(drive_path + '/arabcharsrgb.pkl', 'rb') as f:\n",
        "    ac_data = pickle.load(f)"
      ],
      "id": "nH4EfiD7wia0",
      "execution_count": 4,
      "outputs": []
    },
    {
      "cell_type": "code",
      "metadata": {
        "id": "QIWRdz8iwuN-"
      },
      "source": [
        "train_imgs = ac_data[0].copy()\n",
        "test_imgs = ac_data[1].copy()\n",
        "train_labels = ac_data[2].copy()\n",
        "test_labels = ac_data[3].copy()\n",
        "X_train = ac_data[4].copy()\n",
        "X_test = ac_data[5].copy()\n",
        "y_train = ac_data[6].copy()\n",
        "y_test = ac_data[7].copy()\n",
        "class_dict = ac_data[8].copy()"
      ],
      "id": "QIWRdz8iwuN-",
      "execution_count": 5,
      "outputs": []
    },
    {
      "cell_type": "markdown",
      "metadata": {
        "id": "YYV8VmmO4jDg"
      },
      "source": [
        "## CNN Model #3\n",
        "Trying something similar to a model from [this](https://towardsdatascience.com/going-beyond-99-mnist-handwritten-digits-recognition-cfff96337392) website"
      ],
      "id": "YYV8VmmO4jDg"
    },
    {
      "cell_type": "code",
      "metadata": {
        "id": "K2stf9sxm6fz"
      },
      "source": [
        "model = Sequential([\n",
        "# Layer 1\n",
        "Conv2D(filters = 32, kernel_size = 5, strides = 1, activation = 'relu', input_shape = (32,32,3), kernel_regularizer=l2(0.0005)),\n",
        "# Layer 2\n",
        "Conv2D(filters = 32, kernel_size = 5, strides = 1, use_bias=False),\n",
        "# Layer 3\n",
        "BatchNormalization(),\n",
        "# — — — — — — — — — — — — — — — — #\n",
        "Activation('relu'),\n",
        "MaxPooling2D(pool_size = 2, strides = 2),\n",
        "Dropout(0.25),\n",
        "# — — — — — — — — — — — — — — — — #\n",
        "# Layer 3\n",
        "Conv2D(filters = 64, kernel_size = 3, strides = 1, activation = 'relu', kernel_regularizer=l2(0.0005)),\n",
        "# Layer 4\n",
        "Conv2D(filters = 64, kernel_size = 3, strides = 1, use_bias=False),\n",
        "# Layer 5\n",
        "BatchNormalization(),\n",
        "# — — — — — — — — — — — — — — — — #\n",
        "Activation('relu'),\n",
        "MaxPooling2D(pool_size = 2, strides = 2),\n",
        "Dropout(0.25),\n",
        "Flatten(),\n",
        "# — — — — — — — — — — — — — — — — #\n",
        "# Layer 6\n",
        "Dense(units = 256, use_bias=False),\n",
        "# Layer 7\n",
        "BatchNormalization(),\n",
        "# — — — — — — — — — — — — — — — — #\n",
        "Activation('relu'),\n",
        "# — — — — — — — — — — — — — — — — #\n",
        "# Layer 8\n",
        "Dense(units = 128, use_bias=False),\n",
        "# Layer 9\n",
        "BatchNormalization(),\n",
        "# — — — — — — — — — — — — — — — — #\n",
        "Activation('relu'),\n",
        "# — — — — — — — — — — — — — — — — #\n",
        "# Layer 10\n",
        "Dense(units = 84, use_bias=False),\n",
        "# Layer 11\n",
        "BatchNormalization(),\n",
        "# — — — — — — — — — — — — — — — — #\n",
        "Activation('relu'),\n",
        "Dropout(0.25),\n",
        "# — — — — — — — — — — — — — — — — #\n",
        "# Output\n",
        "Dense(28, activation = 'softmax')\n",
        "])\n",
        "\n",
        "model.compile(optimizer='adam', loss='categorical_crossentropy', metrics=['accuracy'])"
      ],
      "id": "K2stf9sxm6fz",
      "execution_count": 19,
      "outputs": []
    },
    {
      "cell_type": "code",
      "metadata": {
        "colab": {
          "base_uri": "https://localhost:8080/"
        },
        "id": "8CgYjo8xUpVM",
        "outputId": "a3826388-f0ca-4454-b665-d89dbeaad670"
      },
      "source": [
        "history = model.fit(X_train, y_train, validation_data=(X_test, y_test), batch_size=64, epochs=30)"
      ],
      "id": "8CgYjo8xUpVM",
      "execution_count": 21,
      "outputs": [
        {
          "output_type": "stream",
          "name": "stdout",
          "text": [
            "Epoch 1/30\n",
            "210/210 [==============================] - 17s 73ms/step - loss: 2.2520 - accuracy: 0.3553 - val_loss: 3.8527 - val_accuracy: 0.1009\n",
            "Epoch 2/30\n",
            "210/210 [==============================] - 15s 72ms/step - loss: 1.0217 - accuracy: 0.6993 - val_loss: 1.6519 - val_accuracy: 0.4890\n",
            "Epoch 3/30\n",
            "210/210 [==============================] - 15s 71ms/step - loss: 0.6562 - accuracy: 0.8077 - val_loss: 0.6065 - val_accuracy: 0.8060\n",
            "Epoch 4/30\n",
            "210/210 [==============================] - 15s 72ms/step - loss: 0.4960 - accuracy: 0.8556 - val_loss: 0.3976 - val_accuracy: 0.8780\n",
            "Epoch 5/30\n",
            "210/210 [==============================] - 15s 72ms/step - loss: 0.4074 - accuracy: 0.8791 - val_loss: 0.2953 - val_accuracy: 0.9205\n",
            "Epoch 6/30\n",
            "210/210 [==============================] - 15s 72ms/step - loss: 0.3629 - accuracy: 0.8921 - val_loss: 0.4100 - val_accuracy: 0.8717\n",
            "Epoch 7/30\n",
            "210/210 [==============================] - 15s 71ms/step - loss: 0.3268 - accuracy: 0.9047 - val_loss: 0.6034 - val_accuracy: 0.8018\n",
            "Epoch 8/30\n",
            "210/210 [==============================] - 15s 73ms/step - loss: 0.2991 - accuracy: 0.9110 - val_loss: 0.2459 - val_accuracy: 0.9253\n",
            "Epoch 9/30\n",
            "210/210 [==============================] - 15s 73ms/step - loss: 0.2653 - accuracy: 0.9241 - val_loss: 0.3208 - val_accuracy: 0.9101\n",
            "Epoch 10/30\n",
            "210/210 [==============================] - 15s 72ms/step - loss: 0.2489 - accuracy: 0.9269 - val_loss: 0.3376 - val_accuracy: 0.9033\n",
            "Epoch 11/30\n",
            "210/210 [==============================] - 15s 72ms/step - loss: 0.2381 - accuracy: 0.9295 - val_loss: 0.3402 - val_accuracy: 0.9018\n",
            "Epoch 12/30\n",
            "210/210 [==============================] - 16s 74ms/step - loss: 0.2198 - accuracy: 0.9401 - val_loss: 0.2662 - val_accuracy: 0.9268\n",
            "Epoch 13/30\n",
            "210/210 [==============================] - 15s 73ms/step - loss: 0.1927 - accuracy: 0.9463 - val_loss: 0.2924 - val_accuracy: 0.9187\n",
            "Epoch 14/30\n",
            "210/210 [==============================] - 15s 70ms/step - loss: 0.1870 - accuracy: 0.9478 - val_loss: 0.2218 - val_accuracy: 0.9399\n",
            "Epoch 15/30\n",
            "210/210 [==============================] - 15s 70ms/step - loss: 0.1919 - accuracy: 0.9449 - val_loss: 0.2689 - val_accuracy: 0.9247\n",
            "Epoch 16/30\n",
            "210/210 [==============================] - 15s 73ms/step - loss: 0.1811 - accuracy: 0.9492 - val_loss: 0.2383 - val_accuracy: 0.9384\n",
            "Epoch 17/30\n",
            "210/210 [==============================] - 15s 72ms/step - loss: 0.1731 - accuracy: 0.9520 - val_loss: 0.2512 - val_accuracy: 0.9345\n",
            "Epoch 18/30\n",
            "210/210 [==============================] - 15s 71ms/step - loss: 0.1634 - accuracy: 0.9548 - val_loss: 0.2437 - val_accuracy: 0.9375\n",
            "Epoch 19/30\n",
            "210/210 [==============================] - 15s 72ms/step - loss: 0.1585 - accuracy: 0.9554 - val_loss: 0.2187 - val_accuracy: 0.9452\n",
            "Epoch 20/30\n",
            "210/210 [==============================] - 15s 70ms/step - loss: 0.1478 - accuracy: 0.9597 - val_loss: 0.1966 - val_accuracy: 0.9551\n",
            "Epoch 21/30\n",
            "210/210 [==============================] - 15s 74ms/step - loss: 0.1406 - accuracy: 0.9612 - val_loss: 0.2162 - val_accuracy: 0.9476\n",
            "Epoch 22/30\n",
            "210/210 [==============================] - 15s 72ms/step - loss: 0.1460 - accuracy: 0.9610 - val_loss: 0.2570 - val_accuracy: 0.9327\n",
            "Epoch 23/30\n",
            "210/210 [==============================] - 15s 70ms/step - loss: 0.1284 - accuracy: 0.9664 - val_loss: 0.2712 - val_accuracy: 0.9265\n",
            "Epoch 24/30\n",
            "210/210 [==============================] - 15s 70ms/step - loss: 0.1370 - accuracy: 0.9630 - val_loss: 0.2890 - val_accuracy: 0.9268\n",
            "Epoch 25/30\n",
            "210/210 [==============================] - 16s 74ms/step - loss: 0.1258 - accuracy: 0.9679 - val_loss: 0.2041 - val_accuracy: 0.9533\n",
            "Epoch 26/30\n",
            "210/210 [==============================] - 15s 73ms/step - loss: 0.1395 - accuracy: 0.9615 - val_loss: 0.2343 - val_accuracy: 0.9399\n",
            "Epoch 27/30\n",
            "210/210 [==============================] - 15s 72ms/step - loss: 0.1277 - accuracy: 0.9657 - val_loss: 0.2044 - val_accuracy: 0.9503\n",
            "Epoch 28/30\n",
            "210/210 [==============================] - 15s 72ms/step - loss: 0.1147 - accuracy: 0.9696 - val_loss: 0.2062 - val_accuracy: 0.9512\n",
            "Epoch 29/30\n",
            "210/210 [==============================] - 15s 72ms/step - loss: 0.1226 - accuracy: 0.9688 - val_loss: 0.2095 - val_accuracy: 0.9563\n",
            "Epoch 30/30\n",
            "210/210 [==============================] - 15s 72ms/step - loss: 0.1209 - accuracy: 0.9696 - val_loss: 0.2306 - val_accuracy: 0.9417\n"
          ]
        }
      ]
    },
    {
      "cell_type": "code",
      "metadata": {
        "id": "xmeWRrTLUpEM"
      },
      "source": [
        "def plot_training(model_history=history):\n",
        "    plt.figure(figsize=(8,10))\n",
        "\n",
        "    plt.subplot(2,1,1)\n",
        "    plt.title('Model Loss', fontsize=16)\n",
        "    plt.xlabel('Number of Epochs', fontsize=12)\n",
        "    plt.plot(model_history.history['loss'], label='Train Loss')\n",
        "    plt.plot(model_history.history['val_loss'], label='Val Loss')\n",
        "    plt.legend()\n",
        "\n",
        "    plt.subplot(2,1,2)\n",
        "    plt.title('Model Accuracy', fontsize=16)\n",
        "    plt.xlabel('Number of Epochs', fontsize=12)\n",
        "    plt.plot(model_history.history['accuracy'], label='Train Accuracy')\n",
        "    plt.plot(model_history.history['val_accuracy'], label='Val Accuracy')\n",
        "    plt.legend()\n",
        "\n",
        "    plt.subplots_adjust(hspace=0.5) \n",
        "    plt.show()\n",
        "\n",
        "    return"
      ],
      "id": "xmeWRrTLUpEM",
      "execution_count": 22,
      "outputs": []
    },
    {
      "cell_type": "code",
      "metadata": {
        "colab": {
          "base_uri": "https://localhost:8080/",
          "height": 626
        },
        "id": "YqSt4YoaUngl",
        "outputId": "efacf9ac-e270-41ab-9153-2d8808a3e19c"
      },
      "source": [
        "plot_training()"
      ],
      "id": "YqSt4YoaUngl",
      "execution_count": 23,
      "outputs": [
        {
          "output_type": "display_data",
          "data": {
            "image/png": "[encoded data removed]",
            "text/plain": [
              "<Figure size 576x720 with 2 Axes>"
            ]
          },
          "metadata": {
            "needs_background": "light"
          }
        }
      ]
    },
    {
      "cell_type": "code",
      "metadata": {
        "colab": {
          "base_uri": "https://localhost:8080/"
        },
        "id": "2yzTsfGzVPwf",
        "outputId": "8914891a-6a39-41d4-f301-6638cdfdfde0"
      },
      "source": [
        "model.evaluate(X_test, y_test)"
      ],
      "id": "2yzTsfGzVPwf",
      "execution_count": 24,
      "outputs": [
        {
          "output_type": "stream",
          "name": "stdout",
          "text": [
            "105/105 [==============================] - 1s 8ms/step - loss: 0.2306 - accuracy: 0.9417\n"
          ]
        },
        {
          "output_type": "execute_result",
          "data": {
            "text/plain": [
              "[0.23064054548740387, 0.9416666626930237]"
            ]
          },
          "metadata": {},
          "execution_count": 24
        }
      ]
    },
    {
      "cell_type": "markdown",
      "metadata": {
        "id": "El1yOMkYvvI6"
      },
      "source": [
        "## Model Performance\n",
        "We're seeing slight improvement with this model - loss of 0.3709 and accuracy of 93.81%"
      ],
      "id": "El1yOMkYvvI6"
    },
    {
      "cell_type": "code",
      "metadata": {
        "colab": {
          "base_uri": "https://localhost:8080/"
        },
        "id": "o34nUkTVuqm_",
        "outputId": "440287a8-bf95-47ff-e091-6d9ac4191b77"
      },
      "source": [
        "model.summary()"
      ],
      "id": "o34nUkTVuqm_",
      "execution_count": 25,
      "outputs": [
        {
          "output_type": "stream",
          "name": "stdout",
          "text": [
            "Model: \"sequential_3\"\n",
            "_________________________________________________________________\n",
            "Layer (type)                 Output Shape              Param #   \n",
            "=================================================================\n",
            "conv2d_12 (Conv2D)           (None, 28, 28, 32)        2432      \n",
            "_________________________________________________________________\n",
            "conv2d_13 (Conv2D)           (None, 24, 24, 32)        25600     \n",
            "_________________________________________________________________\n",
            "batch_normalization_12 (Batc (None, 24, 24, 32)        128       \n",
            "_________________________________________________________________\n",
            "activation_10 (Activation)   (None, 24, 24, 32)        0         \n",
            "_________________________________________________________________\n",
            "max_pooling2d_4 (MaxPooling2 (None, 12, 12, 32)        0         \n",
            "_________________________________________________________________\n",
            "dropout_6 (Dropout)          (None, 12, 12, 32)        0         \n",
            "_________________________________________________________________\n",
            "conv2d_14 (Conv2D)           (None, 10, 10, 64)        18496     \n",
            "_________________________________________________________________\n",
            "conv2d_15 (Conv2D)           (None, 8, 8, 64)          36864     \n",
            "_________________________________________________________________\n",
            "batch_normalization_13 (Batc (None, 8, 8, 64)          256       \n",
            "_________________________________________________________________\n",
            "activation_11 (Activation)   (None, 8, 8, 64)          0         \n",
            "_________________________________________________________________\n",
            "max_pooling2d_5 (MaxPooling2 (None, 4, 4, 64)          0         \n",
            "_________________________________________________________________\n",
            "dropout_7 (Dropout)          (None, 4, 4, 64)          0         \n",
            "_________________________________________________________________\n",
            "flatten_2 (Flatten)          (None, 1024)              0         \n",
            "_________________________________________________________________\n",
            "dense_8 (Dense)              (None, 256)               262144    \n",
            "_________________________________________________________________\n",
            "batch_normalization_14 (Batc (None, 256)               1024      \n",
            "_________________________________________________________________\n",
            "activation_12 (Activation)   (None, 256)               0         \n",
            "_________________________________________________________________\n",
            "dense_9 (Dense)              (None, 128)               32768     \n",
            "_________________________________________________________________\n",
            "batch_normalization_15 (Batc (None, 128)               512       \n",
            "_________________________________________________________________\n",
            "activation_13 (Activation)   (None, 128)               0         \n",
            "_________________________________________________________________\n",
            "dense_10 (Dense)             (None, 84)                10752     \n",
            "_________________________________________________________________\n",
            "batch_normalization_16 (Batc (None, 84)                336       \n",
            "_________________________________________________________________\n",
            "activation_14 (Activation)   (None, 84)                0         \n",
            "_________________________________________________________________\n",
            "dropout_8 (Dropout)          (None, 84)                0         \n",
            "_________________________________________________________________\n",
            "dense_11 (Dense)             (None, 28)                2380      \n",
            "=================================================================\n",
            "Total params: 393,692\n",
            "Trainable params: 392,564\n",
            "Non-trainable params: 1,128\n",
            "_________________________________________________________________\n"
          ]
        }
      ]
    },
    {
      "cell_type": "code",
      "metadata": {
        "id": "qjK6c-FPb7Zb"
      },
      "source": [
        "model.save(drive_path + 'models/copied_model.h5')"
      ],
      "id": "qjK6c-FPb7Zb",
      "execution_count": 26,
      "outputs": []
    },
    {
      "cell_type": "code",
      "metadata": {
        "id": "VNpP0HLpei3k"
      },
      "source": [
        ""
      ],
      "id": "VNpP0HLpei3k",
      "execution_count": null,
      "outputs": []
    }
  ]
}