{
  "nbformat": 4,
  "nbformat_minor": 5,
  "metadata": {
    "colab": {
      "name": "scratch_3.ipynb",
      "provenance": []
    },
    "kernelspec": {
      "display_name": "Python 3",
      "language": "python",
      "name": "python3"
    },
    "language_info": {
      "codemirror_mode": {
        "name": "ipython",
        "version": 3
      },
      "file_extension": ".py",
      "mimetype": "text/x-python",
      "name": "python",
      "nbconvert_exporter": "python",
      "pygments_lexer": "ipython3",
      "version": "3.8.10"
    }
  },
  "cells": [
    {
      "cell_type": "code",
      "metadata": {
        "colab": {
          "base_uri": "https://localhost:8080/"
        },
        "id": "6EmkDJR93Ux7",
        "outputId": "c93c5f89-2d24-42b3-b82f-b2881c095cf4"
      },
      "source": [
        "from google.colab import drive\n",
        "drive.mount('/content/drive', force_remount=True)"
      ],
      "id": "6EmkDJR93Ux7",
      "execution_count": 1,
      "outputs": [
        {
          "output_type": "stream",
          "name": "stdout",
          "text": [
            "Mounted at /content/drive\n"
          ]
        }
      ]
    },
    {
      "cell_type": "markdown",
      "metadata": {
        "id": "Oc2C5mTQ1G9u"
      },
      "source": [
        "Zipped files by navigating to desired directory in terminal then executing `zip -r test.zip . -x \".*\" -x \"__MACOSX\"` \\\n",
        "Then uploading to google drive"
      ],
      "id": "Oc2C5mTQ1G9u"
    },
    {
      "cell_type": "code",
      "metadata": {
        "id": "c8mOJmhoAcgv"
      },
      "source": [
        "!unzip '/content/drive/MyDrive/general_assembly/code/capstone/arabic_characters/train.zip' -d '/content/drive/MyDrive/general_assembly/code/capstone/arabic_characters/train'"
      ],
      "id": "c8mOJmhoAcgv",
      "execution_count": null,
      "outputs": []
    },
    {
      "cell_type": "code",
      "metadata": {
        "id": "yr3XzsFYFCfE"
      },
      "source": [
        "!unzip '/content/drive/MyDrive/general_assembly/code/capstone/arabic_characters/test.zip' -d '/content/drive/MyDrive/general_assembly/code/capstone/arabic_characters/test'"
      ],
      "id": "yr3XzsFYFCfE",
      "execution_count": null,
      "outputs": []
    },
    {
      "cell_type": "code",
      "metadata": {
        "id": "iWhv7zESFvZx"
      },
      "source": [
        "import pickle\n",
        "\n",
        "import numpy as np\n",
        "import os\n",
        "\n",
        "from tensorflow.keras.utils import to_categorical\n",
        "from tensorflow.keras.preprocessing.image import img_to_array, load_img"
      ],
      "id": "iWhv7zESFvZx",
      "execution_count": 4,
      "outputs": []
    },
    {
      "cell_type": "code",
      "metadata": {
        "id": "ueNSXd5NfK8D"
      },
      "source": [
        "drive_path = '/content/drive/MyDrive/general_assembly/code/capstone/arabic_characters/'"
      ],
      "id": "ueNSXd5NfK8D",
      "execution_count": 5,
      "outputs": []
    },
    {
      "cell_type": "code",
      "metadata": {
        "colab": {
          "base_uri": "https://localhost:8080/"
        },
        "id": "ax-YpWuuQ37P",
        "outputId": "6b06ef9a-95e2-4f46-8f2a-5ef30438aa3b"
      },
      "source": [
        "train_imgs = []\n",
        "train_labels = []\n",
        "\n",
        "train_path = drive_path + 'train/'\n",
        "\n",
        "for file in os.listdir(train_path):\n",
        "    try:\n",
        "        char = load_img(train_path + file, target_size=(32, 32))\n",
        "        char_arr = img_to_array(char) / 255\n",
        "        train_imgs.append(char_arr)\n",
        "        train_labels.append(file[-6:-4].replace('_', '0'))\n",
        "\n",
        "    except:\n",
        "        print(f'Error for file: {file}')\n",
        "\n",
        "print(f'{len(train_imgs)} pictures converted')"
      ],
      "id": "ax-YpWuuQ37P",
      "execution_count": 6,
      "outputs": [
        {
          "output_type": "stream",
          "name": "stdout",
          "text": [
            "13440 pictures converted\n"
          ]
        }
      ]
    },
    {
      "cell_type": "code",
      "metadata": {
        "colab": {
          "base_uri": "https://localhost:8080/"
        },
        "id": "iR1TwuZ1aqbn",
        "outputId": "199e6b21-6640-4c80-ca79-f9f742ecb491"
      },
      "source": [
        "test_imgs = []\n",
        "test_labels = []\n",
        "\n",
        "test_path = drive_path + 'test/'\n",
        "\n",
        "for file in os.listdir(test_path):\n",
        "    try:\n",
        "        char = load_img(test_path + file, target_size=(32, 32))\n",
        "        char_arr = img_to_array(char) / 255\n",
        "        test_imgs.append(char_arr)\n",
        "        test_labels.append(file[-6:-4].replace('_', '0'))\n",
        "    except:\n",
        "        print(f'Error for file: {file}')\n",
        "\n",
        "print(f'{len(test_imgs)} pictures converted')"
      ],
      "id": "iR1TwuZ1aqbn",
      "execution_count": 7,
      "outputs": [
        {
          "output_type": "stream",
          "name": "stdout",
          "text": [
            "3360 pictures converted\n"
          ]
        }
      ]
    },
    {
      "cell_type": "code",
      "metadata": {
        "id": "c4GxUZjVZjN8"
      },
      "source": [
        "class_dict = {'01' : ('alef', 'أ'),\n",
        "              '02' : ('beh', 'ب'),\n",
        "              '03' : ('teh', 'ت'),\n",
        "              '04' : ('theh', 'ث'),\n",
        "              '05' : ('jeem', 'ج'),\n",
        "              '06' : ('hah', 'ح'),\n",
        "              '07' : ('khah', 'خ'),\n",
        "              '08' : ('dal', 'د'),\n",
        "              '09' : ('thal', 'ذ'),\n",
        "              '10': ('reh', 'ر'),\n",
        "              '11': ('zain', 'ز'),\n",
        "              '12': ('seen', 'س'),\n",
        "              '13': ('sheen', 'ش'),\n",
        "              '14': ('sad', 'ص'),\n",
        "              '15': ('dad', 'ض'),\n",
        "              '16': ('tah', 'ط'),\n",
        "              '17': ('zah', 'ظ'),\n",
        "              '18': ('ain', 'ع'),\n",
        "              '19': ('ghain', 'غ'),\n",
        "              '20': ('feh', 'ف'),\n",
        "              '21': ('qaf', 'ق'),\n",
        "              '22': ('kaf', 'ك'),\n",
        "              '23': ('lam', 'ل'),\n",
        "              '24': ('meem', 'م'),\n",
        "              '25': ('noon', 'ن'),\n",
        "              '26': ('heh', 'ﻫ'),\n",
        "              '27': ('waw', 'و'),\n",
        "              '28': ('yeh', 'ي')}"
      ],
      "id": "c4GxUZjVZjN8",
      "execution_count": 8,
      "outputs": []
    },
    {
      "cell_type": "code",
      "metadata": {
        "id": "uxaSnhwkWDXs"
      },
      "source": [
        "X_train = np.array(train_imgs)\n",
        "X_test = np.array(test_imgs)"
      ],
      "id": "uxaSnhwkWDXs",
      "execution_count": 9,
      "outputs": []
    },
    {
      "cell_type": "code",
      "metadata": {
        "id": "DvAGsy5TRKwP"
      },
      "source": [
        "'''\n",
        "one hot encoding all 28 character classes (AKA letters of the Arabic alphabet)\n",
        "using np.delete to remove \"0\" class which doesn't\n",
        "exist in original dataset\n",
        "'''\n",
        "y_train = np.delete(to_categorical(train_labels), 0, 1)\n",
        "y_test = np.delete(to_categorical(test_labels), 0, 1)"
      ],
      "id": "DvAGsy5TRKwP",
      "execution_count": 10,
      "outputs": []
    },
    {
      "cell_type": "code",
      "metadata": {
        "id": "Uo6T-rX1c2yD"
      },
      "source": [
        "# listing each data set's name for reference later when unpickling\n",
        "data_names = ['train_imgs',\n",
        "              'test_imgs',\n",
        "              'train_labels',\n",
        "              'test_labels',\n",
        "              'X_train',\n",
        "              'X_test',\n",
        "              'y_train',\n",
        "              'y_test',\n",
        "              'class_dict']"
      ],
      "id": "Uo6T-rX1c2yD",
      "execution_count": 11,
      "outputs": []
    },
    {
      "cell_type": "code",
      "metadata": {
        "id": "n3FY2T8QYs2f"
      },
      "source": [
        "data = [train_imgs,\n",
        "        test_imgs,\n",
        "        train_labels,\n",
        "        test_labels,\n",
        "        X_train,\n",
        "        X_test,\n",
        "        y_train,\n",
        "        y_test,\n",
        "        class_dict,\n",
        "        data_names]"
      ],
      "id": "n3FY2T8QYs2f",
      "execution_count": 12,
      "outputs": []
    },
    {
      "cell_type": "code",
      "metadata": {
        "id": "WfWb1m2xiPXo"
      },
      "source": [
        "with open(drive_path + 'arabcharsrgb.pkl', 'wb') as f:\n",
        "    pickle.dump(data, f)"
      ],
      "id": "WfWb1m2xiPXo",
      "execution_count": 16,
      "outputs": []
    },
    {
      "cell_type": "code",
      "metadata": {
        "id": "Dk2ou_MGiTeP"
      },
      "source": [
        "with open(drive_path + 'arabcharsrgb.pkl', 'rb') as f:\n",
        "    ac_data = pickle.load(f)"
      ],
      "id": "Dk2ou_MGiTeP",
      "execution_count": 17,
      "outputs": []
    },
    {
      "cell_type": "code",
      "metadata": {
        "id": "kohkC0PAiVcH",
        "outputId": "e7a52fa8-4361-440d-f99a-cfa2d87695a1",
        "colab": {
          "base_uri": "https://localhost:8080/"
        }
      },
      "source": [
        "ac_data[9]"
      ],
      "id": "kohkC0PAiVcH",
      "execution_count": 18,
      "outputs": [
        {
          "output_type": "execute_result",
          "data": {
            "text/plain": [
              "['train_imgs',\n",
              " 'test_imgs',\n",
              " 'train_labels',\n",
              " 'test_labels',\n",
              " 'X_train',\n",
              " 'X_test',\n",
              " 'y_train',\n",
              " 'y_test',\n",
              " 'class_dict']"
            ]
          },
          "metadata": {},
          "execution_count": 18
        }
      ]
    }
  ]
}