{
  "nbformat": 4,
  "nbformat_minor": 5,
  "metadata": {
    "colab": {
      "name": "scratch_2.ipynb",
      "provenance": [],
      "machine_shape": "hm"
    },
    "kernelspec": {
      "display_name": "Python 3",
      "language": "python",
      "name": "python3"
    },
    "language_info": {
      "codemirror_mode": {
        "name": "ipython",
        "version": 3
      },
      "file_extension": ".py",
      "mimetype": "text/x-python",
      "name": "python",
      "nbconvert_exporter": "python",
      "pygments_lexer": "ipython3",
      "version": "3.8.10"
    },
    "accelerator": "TPU"
  },
  "cells": [
    {
      "cell_type": "code",
      "metadata": {
        "colab": {
          "base_uri": "https://localhost:8080/"
        },
        "id": "KDYOCXlgvg2R",
        "outputId": "fed5c7bf-dc4e-44f3-b094-4c326e123382"
      },
      "source": [
        "from google.colab import drive\n",
        "drive.mount('/content/drive', force_remount=True)"
      ],
      "id": "KDYOCXlgvg2R",
      "execution_count": 1,
      "outputs": [
        {
          "output_type": "stream",
          "name": "stdout",
          "text": [
            "Mounted at /content/drive\n"
          ]
        }
      ]
    },
    {
      "cell_type": "code",
      "metadata": {
        "id": "X4EvVlChvl8r"
      },
      "source": [
        "drive_path = '/content/drive/MyDrive/general_assembly/code/capstone/arabic_characters'"
      ],
      "id": "X4EvVlChvl8r",
      "execution_count": 2,
      "outputs": []
    },
    {
      "cell_type": "code",
      "metadata": {
        "id": "I1RTWwRnwcRo"
      },
      "source": [
        "import pickle\n",
        "\n",
        "import numpy as np\n",
        "import matplotlib.pyplot as plt\n",
        "import pandas as pd\n",
        "\n",
        "from tensorflow.keras.models import Sequential, load_model\n",
        "from tensorflow.keras.layers import Conv2D, MaxPooling2D, Flatten, Dense\n",
        "from tensorflow.keras.regularizers import l2\n",
        "\n",
        "np.random.seed(42)"
      ],
      "id": "I1RTWwRnwcRo",
      "execution_count": 3,
      "outputs": []
    },
    {
      "cell_type": "code",
      "metadata": {
        "id": "nH4EfiD7wia0"
      },
      "source": [
        "with open(drive_path + '/arabcharsrgb.pkl', 'rb') as f:\n",
        "    ac_data = pickle.load(f)"
      ],
      "id": "nH4EfiD7wia0",
      "execution_count": 4,
      "outputs": []
    },
    {
      "cell_type": "code",
      "metadata": {
        "id": "QIWRdz8iwuN-"
      },
      "source": [
        "train_imgs = ac_data[0].copy()\n",
        "test_imgs = ac_data[1].copy()\n",
        "train_labels = ac_data[2].copy()\n",
        "test_labels = ac_data[3].copy()\n",
        "X_train = ac_data[4].copy()\n",
        "X_test = ac_data[5].copy()\n",
        "y_train = ac_data[6].copy()\n",
        "y_test = ac_data[7].copy()\n",
        "class_dict = ac_data[8].copy()"
      ],
      "id": "QIWRdz8iwuN-",
      "execution_count": 5,
      "outputs": []
    },
    {
      "cell_type": "markdown",
      "metadata": {
        "id": "YYV8VmmO4jDg"
      },
      "source": [
        "## CNN Model #1\n",
        "This is the model proposed in the paper outlining the data set by the people who collected the data [(source)](https://www.researchgate.net/publication/313891953_Arabic_Handwritten_Characters_Recognition_using_Convolutional_Neural_Network). The grid searching method used was originally published [here](https://machinelearningmastery.com/how-to-reduce-overfitting-in-deep-learning-with-weight-regularization/)."
      ],
      "id": "YYV8VmmO4jDg"
    },
    {
      "cell_type": "code",
      "metadata": {
        "id": "Vyi_srzl4lCZ"
      },
      "source": [
        "def gridsearch_l2reg(l2_values, data = (X_train, X_test, y_train, y_test), batch = 256, eps = 30, v = 0):\n",
        "    count = 0\n",
        "    loss_scores = []\n",
        "    accuracy_scores = []\n",
        "\n",
        "    for value in l2_values:\n",
        "        print(f'Fitting model with l2 = {value:.0e}...')\n",
        "        # construct network\n",
        "        model = Sequential()\n",
        "\n",
        "        # Convolutional and Max Pooling - layers 1 & 2\n",
        "        model.add(Conv2D(80, (5, 5), activation='relu',\n",
        "                         kernel_regularizer=l2(value), input_shape=(32, 32, 3)))\n",
        "        model.add(MaxPooling2D((2, 2)))\n",
        "\n",
        "        # Convolutional and Max Pooling - layers 3 & 4\n",
        "        model.add(Conv2D(64, (5, 5), activation='relu',\n",
        "                         kernel_regularizer=l2(value)))\n",
        "        model.add(MaxPooling2D((2, 2)))\n",
        "\n",
        "        # classification - layers 5 & 6\n",
        "        model.add(Flatten())\n",
        "        model.add(Dense(1024, activation='relu', kernel_regularizer=l2(value)))\n",
        "        model.add(Dense(28, activation='softmax'))\n",
        "\n",
        "        # compile model\n",
        "        model.compile(optimizer='adam',\n",
        "                      loss='categorical_crossentropy',\n",
        "                      metrics=['accuracy'])\n",
        "\n",
        "        # fit model\n",
        "        history = model.fit(data[0], data[2], validation_data=(data[1], data[3]),\n",
        "                            batch_size=batch, epochs=eps, verbose = v)\n",
        "\n",
        "        # evaluate model\n",
        "        loss_scores.append(model.evaluate(X_test, y_test, verbose=0)[0])\n",
        "        accuracy_scores.append(model.evaluate(X_test, y_test, verbose=0)[1])\n",
        "\n",
        "        # dynamically name and save models\n",
        "        model.save(f'{drive_path}/models/cnn_l2reg_{count}.h5')\n",
        "        count += 1\n",
        "\n",
        "    # visualize model performance for each value of l2\n",
        "    print(f'\\n')\n",
        "    plt.figure(figsize=(8,6))\n",
        "    plt.semilogx(l2_values, loss_scores, label='Loss Scores', marker='o')\n",
        "    plt.semilogx(l2_values, accuracy_scores, label='Accuracy Scores', marker='o')\n",
        "    plt.xlabel('l2 Values', fontsize=16)\n",
        "    plt.xticks(fontsize=14)\n",
        "    plt.ylabel('Scores', fontsize=16)\n",
        "    plt.yticks(fontsize=14)\n",
        "    plt.title('Loss and Accuracy Scores for Different\\n l2 Regularization Values in this CNN', fontsize=16)\n",
        "    plt.legend(fontsize=14)\n",
        "    plt.show()\n",
        "\n",
        "    print(f'\\n')\n",
        "    print(pd.DataFrame({'l2 Value': l2_values,\n",
        "                        'Loss Score': loss_scores,\n",
        "                        'Accuracy Score': accuracy_scores}))\n",
        "\n",
        "    return"
      ],
      "id": "Vyi_srzl4lCZ",
      "execution_count": 6,
      "outputs": []
    },
    {
      "cell_type": "code",
      "metadata": {
        "id": "vnCqH3kr4qFP",
        "colab": {
          "base_uri": "https://localhost:8080/",
          "height": 828
        },
        "outputId": "6a3e2570-a3f1-44b0-d651-e6de8908149d"
      },
      "source": [
        "%%time\n",
        "# This ran w/ TPU on Colab Pro+ in High RAM mode\n",
        "values = [1e-1, 1e-2, 1e-3, 1e-4, 1e-5, 1e-6, 1e-7, 1e-8]\n",
        "gridsearch_l2reg(values)"
      ],
      "id": "vnCqH3kr4qFP",
      "execution_count": 7,
      "outputs": [
        {
          "output_type": "stream",
          "name": "stdout",
          "text": [
            "Fitting model with l2 = 1e-01...\n",
            "Fitting model with l2 = 1e-02...\n",
            "Fitting model with l2 = 1e-03...\n",
            "Fitting model with l2 = 1e-04...\n",
            "Fitting model with l2 = 1e-05...\n",
            "Fitting model with l2 = 1e-06...\n",
            "Fitting model with l2 = 1e-07...\n",
            "Fitting model with l2 = 1e-08...\n",
            "\n",
            "\n"
          ]
        },
        {
          "output_type": "display_data",
          "data": {
            "image/png": "[encoded data removed]",
            "text/plain": [
              "<Figure size 576x432 with 1 Axes>"
            ]
          },
          "metadata": {
            "needs_background": "light"
          }
        },
        {
          "output_type": "stream",
          "name": "stdout",
          "text": [
            "\n",
            "\n",
            "       l2 Value  Loss Score  Accuracy Score\n",
            "0  1.000000e-01    1.503185        0.711905\n",
            "1  1.000000e-02    0.872633        0.822024\n",
            "2  1.000000e-03    0.483074        0.909226\n",
            "3  1.000000e-04    0.420901        0.929167\n",
            "4  1.000000e-05    0.449650        0.911310\n",
            "5  1.000000e-06    0.434332        0.930952\n",
            "6  1.000000e-07    0.429666        0.921726\n",
            "7  1.000000e-08    0.390084        0.924405\n",
            "CPU times: user 11h 2min 21s, sys: 51min 10s, total: 11h 53min 31s\n",
            "Wall time: 28min 40s\n"
          ]
        }
      ]
    },
    {
      "cell_type": "markdown",
      "metadata": {
        "id": "vr0e-1Pezkdb"
      },
      "source": [
        "The scores seemed to be getting better so we're gonna pick up where we left off."
      ],
      "id": "vr0e-1Pezkdb"
    },
    {
      "cell_type": "code",
      "metadata": {
        "id": "GCwlXFyQzfxj"
      },
      "source": [
        "def gridsearch_l2reg8(l2_values, data = (X_train, X_test, y_train, y_test), batch = 256, eps = 30, v = 0):\n",
        "    count = 8 #this is the only thing that's different\n",
        "    loss_scores = []\n",
        "    accuracy_scores = []\n",
        "\n",
        "    for value in l2_values:\n",
        "        print(f'Fitting model with l2 = {value:.0e}...')\n",
        "        # construct network\n",
        "        model = Sequential()\n",
        "\n",
        "        # Convolutional and Max Pooling - layers 1 & 2\n",
        "        model.add(Conv2D(80, (5, 5), activation='relu',\n",
        "                         kernel_regularizer=l2(value), input_shape=(32, 32, 3)))\n",
        "        model.add(MaxPooling2D((2, 2)))\n",
        "\n",
        "        # Convolutional and Max Pooling - layers 3 & 4\n",
        "        model.add(Conv2D(64, (5, 5), activation='relu',\n",
        "                         kernel_regularizer=l2(value)))\n",
        "        model.add(MaxPooling2D((2, 2)))\n",
        "\n",
        "        # classification - layers 5 & 6\n",
        "        model.add(Flatten())\n",
        "        model.add(Dense(1024, activation='relu', kernel_regularizer=l2(value)))\n",
        "        model.add(Dense(28, activation='softmax'))\n",
        "\n",
        "        # compile model\n",
        "        model.compile(optimizer='adam',\n",
        "                      loss='categorical_crossentropy',\n",
        "                      metrics=['accuracy'])\n",
        "\n",
        "        # fit model\n",
        "        history = model.fit(data[0], data[2], validation_data=(data[1], data[3]),\n",
        "                            batch_size=batch, epochs=eps, verbose = v)\n",
        "\n",
        "        # evaluate model\n",
        "        loss_scores.append(model.evaluate(X_test, y_test, verbose=0)[0])\n",
        "        accuracy_scores.append(model.evaluate(X_test, y_test, verbose=0)[1])\n",
        "\n",
        "        # dynamically name and save models\n",
        "        model.save(f'{drive_path}/models/cnn_l2reg_{count}.h5')\n",
        "        count += 1\n",
        "\n",
        "    # visualize model performance for each value of l2\n",
        "    print(f'\\n')\n",
        "    plt.figure(figsize=(8,6))\n",
        "    plt.semilogx(l2_values, loss_scores, label='Loss Scores', marker='o')\n",
        "    plt.semilogx(l2_values, accuracy_scores, label='Accuracy Scores', marker='o')\n",
        "    plt.xlabel('l2 Values', fontsize=16)\n",
        "    plt.xticks(fontsize=14)\n",
        "    plt.ylabel('Scores', fontsize=16)\n",
        "    plt.yticks(fontsize=14)\n",
        "    plt.title('Loss and Accuracy Scores for Different\\n l2 Regularization Values in this CNN', fontsize=16)\n",
        "    plt.legend(fontsize=14)\n",
        "    plt.show()\n",
        "\n",
        "    print(f'\\n')\n",
        "    print(pd.DataFrame({'l2 Value': l2_values,\n",
        "                        'Loss Score': loss_scores,\n",
        "                        'Accuracy Score': accuracy_scores}))\n",
        "\n",
        "    return"
      ],
      "id": "GCwlXFyQzfxj",
      "execution_count": 8,
      "outputs": []
    },
    {
      "cell_type": "code",
      "metadata": {
        "id": "RDM6x8xLzKcU",
        "outputId": "a1893e95-2311-431e-e276-c95fd748d641",
        "colab": {
          "base_uri": "https://localhost:8080/",
          "height": 692
        }
      },
      "source": [
        "%%time\n",
        "# This ran w/ TPU on Colab Pro+ in High RAM mode\n",
        "values = [1e-9, 1e-10, 1e-11, 1e-12]\n",
        "gridsearch_l2reg8(values)"
      ],
      "id": "RDM6x8xLzKcU",
      "execution_count": 9,
      "outputs": [
        {
          "output_type": "stream",
          "name": "stdout",
          "text": [
            "Fitting model with l2 = 1e-09...\n",
            "Fitting model with l2 = 1e-10...\n",
            "Fitting model with l2 = 1e-11...\n",
            "Fitting model with l2 = 1e-12...\n",
            "\n",
            "\n"
          ]
        },
        {
          "output_type": "display_data",
          "data": {
            "image/png": "[encoded data removed]",
            "text/plain": [
              "<Figure size 576x432 with 1 Axes>"
            ]
          },
          "metadata": {
            "needs_background": "light"
          }
        },
        {
          "output_type": "stream",
          "name": "stdout",
          "text": [
            "\n",
            "\n",
            "       l2 Value  Loss Score  Accuracy Score\n",
            "0  1.000000e-09    0.419198        0.923810\n",
            "1  1.000000e-10    0.424631        0.918155\n",
            "2  1.000000e-11    0.443142        0.917560\n",
            "3  1.000000e-12    0.414719        0.925000\n",
            "CPU times: user 4h 1min 46s, sys: 9min 25s, total: 4h 11min 12s\n",
            "Wall time: 9min 55s\n"
          ]
        }
      ]
    },
    {
      "cell_type": "code",
      "metadata": {
        "id": "A_F8HhCxWjp_"
      },
      "source": [
        "cnn_1 = load_model(f'{drive_path}/models/cnn_l2reg_0.h5')\n",
        "cnn_2 = load_model(f'{drive_path}/models/cnn_l2reg_1.h5')\n",
        "cnn_3 = load_model(f'{drive_path}/models/cnn_l2reg_2.h5')\n",
        "cnn_4 = load_model(f'{drive_path}/models/cnn_l2reg_3.h5')\n",
        "cnn_5 = load_model(f'{drive_path}/models/cnn_l2reg_4.h5')\n",
        "cnn_6 = load_model(f'{drive_path}/models/cnn_l2reg_5.h5')\n",
        "cnn_7 = load_model(f'{drive_path}/models/cnn_l2reg_6.h5')\n",
        "cnn_8 = load_model(f'{drive_path}/models/cnn_l2reg_7.h5')\n",
        "cnn_9 = load_model(f'{drive_path}/models/cnn_l2reg_8.h5')\n",
        "cnn_10 = load_model(f'{drive_path}/models/cnn_l2reg_9.h5')\n",
        "cnn_11 = load_model(f'{drive_path}/models/cnn_l2reg_10.h5')\n",
        "cnn_12 = load_model(f'{drive_path}/models/cnn_l2reg_11.h5')"
      ],
      "id": "A_F8HhCxWjp_",
      "execution_count": 26,
      "outputs": []
    },
    {
      "cell_type": "code",
      "metadata": {
        "id": "VdvgNHfyY3J1"
      },
      "source": [
        "cnn_list = [cnn_1, cnn_2, cnn_3, cnn_4, cnn_5, cnn_6, cnn_7, cnn_8, cnn_9, cnn_10, cnn_11, cnn_12]\n",
        "l2_values = [1e-1, 1e-2, 1e-3, 1e-4, 1e-5, 1e-6, 1e-7, 1e-8, 1e-9, 1e-10, 1e-11, 1e-12]"
      ],
      "id": "VdvgNHfyY3J1",
      "execution_count": 27,
      "outputs": []
    },
    {
      "cell_type": "code",
      "metadata": {
        "id": "VpvPH4F2YjnY",
        "outputId": "a1ebc4be-4284-4941-ab64-34957c0a2359",
        "colab": {
          "base_uri": "https://localhost:8080/",
          "height": 692
        }
      },
      "source": [
        "loss_scores = []\n",
        "accuracy_scores = []\n",
        "\n",
        "for cnn in cnn_list:\n",
        "    loss_scores.append(cnn.evaluate(X_test, y_test, verbose=0)[0])\n",
        "    accuracy_scores.append(cnn.evaluate(X_test, y_test, verbose=0)[1])\n",
        "\n",
        "plt.figure(figsize=(8,6))\n",
        "plt.semilogx(l2_values, loss_scores, label='Loss Scores', marker='o')\n",
        "plt.semilogx(l2_values, accuracy_scores, label='Accuracy Scores', marker='o')\n",
        "plt.xlabel('l2 Values', fontsize=16)\n",
        "plt.xticks(fontsize=14)\n",
        "plt.ylabel('Scores', fontsize=16)\n",
        "plt.yticks(fontsize=14)\n",
        "plt.title('Loss and Accuracy Scores for Different\\n l2 Regularization Values in this CNN', fontsize=16)\n",
        "plt.legend(fontsize=14)\n",
        "plt.show()\n",
        "\n",
        "print(f'\\n')\n",
        "print(pd.DataFrame({'l2 Value': l2_values,\n",
        "                    'Loss Score': loss_scores,\n",
        "                    'Accuracy Score': accuracy_scores}))"
      ],
      "id": "VpvPH4F2YjnY",
      "execution_count": 28,
      "outputs": [
        {
          "output_type": "display_data",
          "data": {
            "image/png": "[encoded data removed]",
            "text/plain": [
              "<Figure size 576x432 with 1 Axes>"
            ]
          },
          "metadata": {
            "needs_background": "light"
          }
        },
        {
          "output_type": "stream",
          "name": "stdout",
          "text": [
            "\n",
            "\n",
            "        l2 Value  Loss Score  Accuracy Score\n",
            "0   1.000000e-01    1.503185        0.711905\n",
            "1   1.000000e-02    0.872633        0.822024\n",
            "2   1.000000e-03    0.483074        0.909226\n",
            "3   1.000000e-04    0.420901        0.929167\n",
            "4   1.000000e-05    0.449650        0.911310\n",
            "5   1.000000e-06    0.434332        0.930952\n",
            "6   1.000000e-07    0.429666        0.921726\n",
            "7   1.000000e-08    0.390084        0.924405\n",
            "8   1.000000e-09    0.419198        0.923810\n",
            "9   1.000000e-10    0.424631        0.918155\n",
            "10  1.000000e-11    0.443142        0.917560\n",
            "11  1.000000e-12    0.414719        0.925000\n"
          ]
        }
      ]
    },
    {
      "cell_type": "code",
      "metadata": {
        "id": "6q6_laLn5WfM",
        "outputId": "4b2ac324-d290-4177-f727-c90d4b493c4c",
        "colab": {
          "base_uri": "https://localhost:8080/"
        }
      },
      "source": [
        "cnn_8.summary()"
      ],
      "id": "6q6_laLn5WfM",
      "execution_count": 29,
      "outputs": [
        {
          "output_type": "stream",
          "name": "stdout",
          "text": [
            "Model: \"sequential_7\"\n",
            "_________________________________________________________________\n",
            "Layer (type)                 Output Shape              Param #   \n",
            "=================================================================\n",
            "conv2d_14 (Conv2D)           (None, 28, 28, 80)        6080      \n",
            "_________________________________________________________________\n",
            "max_pooling2d_14 (MaxPooling (None, 14, 14, 80)        0         \n",
            "_________________________________________________________________\n",
            "conv2d_15 (Conv2D)           (None, 10, 10, 64)        128064    \n",
            "_________________________________________________________________\n",
            "max_pooling2d_15 (MaxPooling (None, 5, 5, 64)          0         \n",
            "_________________________________________________________________\n",
            "flatten_7 (Flatten)          (None, 1600)              0         \n",
            "_________________________________________________________________\n",
            "dense_14 (Dense)             (None, 1024)              1639424   \n",
            "_________________________________________________________________\n",
            "dense_15 (Dense)             (None, 28)                28700     \n",
            "=================================================================\n",
            "Total params: 1,802,268\n",
            "Trainable params: 1,802,268\n",
            "Non-trainable params: 0\n",
            "_________________________________________________________________\n"
          ]
        }
      ]
    },
    {
      "cell_type": "code",
      "metadata": {
        "id": "hUDAvAIGQkw4",
        "outputId": "0a20ee4e-efd1-4232-cce8-1111925a5e1b",
        "colab": {
          "base_uri": "https://localhost:8080/"
        }
      },
      "source": [
        "cnn_8.evaluate(X_test, y_test)"
      ],
      "id": "hUDAvAIGQkw4",
      "execution_count": 30,
      "outputs": [
        {
          "output_type": "stream",
          "name": "stdout",
          "text": [
            "105/105 [==============================] - 1s 7ms/step - loss: 0.3901 - accuracy: 0.9244\n"
          ]
        },
        {
          "output_type": "execute_result",
          "data": {
            "text/plain": [
              "[0.39008384943008423, 0.9244047403335571]"
            ]
          },
          "metadata": {},
          "execution_count": 30
        }
      ]
    },
    {
      "cell_type": "code",
      "metadata": {
        "id": "-6taVab97eCO"
      },
      "source": [
        "cnn_8.save(drive_path + '/models/cnn_1.h5')"
      ],
      "id": "-6taVab97eCO",
      "execution_count": 32,
      "outputs": []
    },
    {
      "cell_type": "markdown",
      "metadata": {
        "id": "El1yOMkYvvI6"
      },
      "source": [
        "## Model Performance\n",
        "Based on the information above, we're going to choose a model with $l_2 =$ `1e-8` because it had the lowest test score (0.3901, a massive improvement over the baseline's 0.8514) and close to the highest accuracy score (92.44%). Although, it seems that any of the values less than or equal to `1e-3` would work comparably well due to the variance produced within this stochastically generated method."
      ],
      "id": "El1yOMkYvvI6"
    }
  ]
}