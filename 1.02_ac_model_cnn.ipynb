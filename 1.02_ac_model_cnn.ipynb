{
  "nbformat": 4,
  "nbformat_minor": 5,
  "metadata": {
    "colab": {
      "name": "scratch_2.ipynb",
      "provenance": [],
      "machine_shape": "hm"
    },
    "kernelspec": {
      "display_name": "Python 3",
      "language": "python",
      "name": "python3"
    },
    "language_info": {
      "codemirror_mode": {
        "name": "ipython",
        "version": 3
      },
      "file_extension": ".py",
      "mimetype": "text/x-python",
      "name": "python",
      "nbconvert_exporter": "python",
      "pygments_lexer": "ipython3",
      "version": "3.8.10"
    },
    "accelerator": "TPU"
  },
  "cells": [
    {
      "cell_type": "code",
      "metadata": {
        "colab": {
          "base_uri": "https://localhost:8080/"
        },
        "id": "KDYOCXlgvg2R",
        "outputId": "bc160431-2189-4a50-d6ba-3dcc74e7ed10"
      },
      "source": [
        "from google.colab import drive\n",
        "drive.mount('/content/drive', force_remount=True)"
      ],
      "id": "KDYOCXlgvg2R",
      "execution_count": 1,
      "outputs": [
        {
          "output_type": "stream",
          "name": "stdout",
          "text": [
            "Mounted at /content/drive\n"
          ]
        }
      ]
    },
    {
      "cell_type": "code",
      "metadata": {
        "id": "X4EvVlChvl8r"
      },
      "source": [
        "drive_path = '/content/drive/MyDrive/general_assembly/code/capstone/arabic_characters'"
      ],
      "id": "X4EvVlChvl8r",
      "execution_count": 2,
      "outputs": []
    },
    {
      "cell_type": "code",
      "metadata": {
        "id": "I1RTWwRnwcRo"
      },
      "source": [
        "import pickle\n",
        "\n",
        "import numpy as np\n",
        "import matplotlib.pyplot as plt\n",
        "import pandas as pd\n",
        "\n",
        "from tensorflow.keras.models import Sequential\n",
        "from tensorflow.keras.layers import Conv2D, MaxPooling2D, Flatten, Dense, Dropout\n",
        "from tensorflow.keras.regularizers import l2\n",
        "from tensorflow.keras.callbacks import EarlyStopping\n",
        "\n",
        "np.random.seed(42)"
      ],
      "id": "I1RTWwRnwcRo",
      "execution_count": 3,
      "outputs": []
    },
    {
      "cell_type": "code",
      "metadata": {
        "id": "nH4EfiD7wia0"
      },
      "source": [
        "with open(drive_path + '/arabcharsrgb.pkl', 'rb') as f:\n",
        "    ac_data = pickle.load(f)"
      ],
      "id": "nH4EfiD7wia0",
      "execution_count": 4,
      "outputs": []
    },
    {
      "cell_type": "code",
      "metadata": {
        "id": "QIWRdz8iwuN-"
      },
      "source": [
        "train_imgs = ac_data[0].copy()\n",
        "test_imgs = ac_data[1].copy()\n",
        "train_labels = ac_data[2].copy()\n",
        "test_labels = ac_data[3].copy()\n",
        "X_train = ac_data[4].copy()\n",
        "X_test = ac_data[5].copy()\n",
        "y_train = ac_data[6].copy()\n",
        "y_test = ac_data[7].copy()\n",
        "class_dict = ac_data[8].copy()"
      ],
      "id": "QIWRdz8iwuN-",
      "execution_count": 5,
      "outputs": []
    },
    {
      "cell_type": "markdown",
      "metadata": {
        "id": "YYV8VmmO4jDg"
      },
      "source": [
        "## CNN Model #2\n",
        "This model will have a similar structure to the one outline in the paper but will incorporate Dropout layers and early stopping, as well as a few other adjustments."
      ],
      "id": "YYV8VmmO4jDg"
    },
    {
      "cell_type": "code",
      "metadata": {
        "id": "Vyi_srzl4lCZ"
      },
      "source": [
        "# l2 value of 1e-8\n",
        "# construct network\n",
        "model = Sequential()\n",
        "\n",
        "# Convolutional, Max Pooling, Dropout - 1, 2, 3\n",
        "model.add(Conv2D(80, (5, 5), activation='relu', kernel_regularizer=l2(1e-8), input_shape=(32, 32, 3)))\n",
        "model.add(MaxPooling2D((2, 2)))\n",
        "model.add(Dropout(0.2))\n",
        "\n",
        "# Convolutional, Max Pooling, Dropout - 4, 5, 6\n",
        "model.add(Conv2D(64, (5, 5), activation='relu', kernel_regularizer=l2(1e-8)))\n",
        "model.add(MaxPooling2D((2, 2)))\n",
        "model.add(Dropout(0.2))\n",
        "\n",
        "# classification - 7, 8\n",
        "model.add(Flatten())\n",
        "model.add(Dense(1024, activation='relu', kernel_regularizer=l2(1e-8)))\n",
        "model.add(Dense(28, activation='softmax'))\n",
        "\n",
        "# early stopping callback\n",
        "early_stop = EarlyStopping(monitor='val_loss', min_delta=0, patience=5, verbose=1)\n",
        "\n",
        "# compile model\n",
        "model.compile(optimizer='adam', loss='categorical_crossentropy', metrics=['accuracy'])"
      ],
      "id": "Vyi_srzl4lCZ",
      "execution_count": 6,
      "outputs": []
    },
    {
      "cell_type": "code",
      "metadata": {
        "colab": {
          "base_uri": "https://localhost:8080/"
        },
        "id": "8CgYjo8xUpVM",
        "outputId": "68a413c5-79bc-45d0-fb90-2535204937f8"
      },
      "source": [
        "history = model.fit(X_train, y_train, validation_data=(X_test, y_test), batch_size=64, epochs=30)"
      ],
      "id": "8CgYjo8xUpVM",
      "execution_count": 7,
      "outputs": [
        {
          "output_type": "stream",
          "name": "stdout",
          "text": [
            "Epoch 1/30\n",
            "210/210 [==============================] - 8s 34ms/step - loss: 1.3370 - accuracy: 0.5861 - val_loss: 0.6035 - val_accuracy: 0.8143\n",
            "Epoch 2/30\n",
            "210/210 [==============================] - 7s 32ms/step - loss: 0.4877 - accuracy: 0.8380 - val_loss: 0.4032 - val_accuracy: 0.8735\n",
            "Epoch 3/30\n",
            "210/210 [==============================] - 7s 32ms/step - loss: 0.3127 - accuracy: 0.8916 - val_loss: 0.3531 - val_accuracy: 0.8860\n",
            "Epoch 4/30\n",
            "210/210 [==============================] - 6s 31ms/step - loss: 0.2245 - accuracy: 0.9235 - val_loss: 0.3363 - val_accuracy: 0.8991\n",
            "Epoch 5/30\n",
            "210/210 [==============================] - 7s 31ms/step - loss: 0.1662 - accuracy: 0.9456 - val_loss: 0.2947 - val_accuracy: 0.9167\n",
            "Epoch 6/30\n",
            "210/210 [==============================] - 7s 32ms/step - loss: 0.1434 - accuracy: 0.9503 - val_loss: 0.2918 - val_accuracy: 0.9223\n",
            "Epoch 7/30\n",
            "210/210 [==============================] - 7s 32ms/step - loss: 0.1048 - accuracy: 0.9644 - val_loss: 0.3312 - val_accuracy: 0.9089\n",
            "Epoch 8/30\n",
            "210/210 [==============================] - 7s 32ms/step - loss: 0.0944 - accuracy: 0.9663 - val_loss: 0.2865 - val_accuracy: 0.9241\n",
            "Epoch 9/30\n",
            "210/210 [==============================] - 7s 32ms/step - loss: 0.0806 - accuracy: 0.9728 - val_loss: 0.3006 - val_accuracy: 0.9274\n",
            "Epoch 10/30\n",
            "210/210 [==============================] - 7s 32ms/step - loss: 0.0737 - accuracy: 0.9740 - val_loss: 0.2708 - val_accuracy: 0.9312\n",
            "Epoch 11/30\n",
            "210/210 [==============================] - 7s 32ms/step - loss: 0.0629 - accuracy: 0.9775 - val_loss: 0.3495 - val_accuracy: 0.9208\n",
            "Epoch 12/30\n",
            "210/210 [==============================] - 7s 32ms/step - loss: 0.0639 - accuracy: 0.9779 - val_loss: 0.3073 - val_accuracy: 0.9298\n",
            "Epoch 13/30\n",
            "210/210 [==============================] - 7s 32ms/step - loss: 0.0545 - accuracy: 0.9799 - val_loss: 0.3134 - val_accuracy: 0.9286\n",
            "Epoch 14/30\n",
            "210/210 [==============================] - 7s 32ms/step - loss: 0.0522 - accuracy: 0.9819 - val_loss: 0.3275 - val_accuracy: 0.9336\n",
            "Epoch 15/30\n",
            "210/210 [==============================] - 7s 32ms/step - loss: 0.0506 - accuracy: 0.9818 - val_loss: 0.3228 - val_accuracy: 0.9298\n",
            "Epoch 16/30\n",
            "210/210 [==============================] - 7s 31ms/step - loss: 0.0488 - accuracy: 0.9839 - val_loss: 0.3090 - val_accuracy: 0.9318\n",
            "Epoch 17/30\n",
            "210/210 [==============================] - 7s 32ms/step - loss: 0.0356 - accuracy: 0.9877 - val_loss: 0.3567 - val_accuracy: 0.9301\n",
            "Epoch 18/30\n",
            "210/210 [==============================] - 7s 33ms/step - loss: 0.0395 - accuracy: 0.9862 - val_loss: 0.3939 - val_accuracy: 0.9256\n",
            "Epoch 19/30\n",
            "210/210 [==============================] - 7s 33ms/step - loss: 0.0395 - accuracy: 0.9851 - val_loss: 0.3674 - val_accuracy: 0.9295\n",
            "Epoch 20/30\n",
            "210/210 [==============================] - 7s 33ms/step - loss: 0.0413 - accuracy: 0.9861 - val_loss: 0.4198 - val_accuracy: 0.9250\n",
            "Epoch 21/30\n",
            "210/210 [==============================] - 7s 34ms/step - loss: 0.0472 - accuracy: 0.9848 - val_loss: 0.3183 - val_accuracy: 0.9351\n",
            "Epoch 22/30\n",
            "210/210 [==============================] - 7s 33ms/step - loss: 0.0357 - accuracy: 0.9882 - val_loss: 0.3646 - val_accuracy: 0.9292\n",
            "Epoch 23/30\n",
            "210/210 [==============================] - 7s 34ms/step - loss: 0.0298 - accuracy: 0.9906 - val_loss: 0.3608 - val_accuracy: 0.9342\n",
            "Epoch 24/30\n",
            "210/210 [==============================] - 7s 34ms/step - loss: 0.0333 - accuracy: 0.9885 - val_loss: 0.3802 - val_accuracy: 0.9301\n",
            "Epoch 25/30\n",
            "210/210 [==============================] - 7s 34ms/step - loss: 0.0396 - accuracy: 0.9880 - val_loss: 0.3545 - val_accuracy: 0.9336\n",
            "Epoch 26/30\n",
            "210/210 [==============================] - 7s 35ms/step - loss: 0.0308 - accuracy: 0.9895 - val_loss: 0.4615 - val_accuracy: 0.9229\n",
            "Epoch 27/30\n",
            "210/210 [==============================] - 7s 34ms/step - loss: 0.0272 - accuracy: 0.9929 - val_loss: 0.4195 - val_accuracy: 0.9259\n",
            "Epoch 28/30\n",
            "210/210 [==============================] - 7s 33ms/step - loss: 0.0405 - accuracy: 0.9876 - val_loss: 0.4010 - val_accuracy: 0.9312\n",
            "Epoch 29/30\n",
            "210/210 [==============================] - 7s 35ms/step - loss: 0.0339 - accuracy: 0.9894 - val_loss: 0.3988 - val_accuracy: 0.9283\n",
            "Epoch 30/30\n",
            "210/210 [==============================] - 7s 35ms/step - loss: 0.0314 - accuracy: 0.9896 - val_loss: 0.3709 - val_accuracy: 0.9381\n"
          ]
        }
      ]
    },
    {
      "cell_type": "code",
      "metadata": {
        "id": "xmeWRrTLUpEM"
      },
      "source": [
        "def plot_training(model_history=history):\n",
        "    plt.figure(figsize=(8,10))\n",
        "\n",
        "    plt.subplot(2,1,1)\n",
        "    plt.title('Model Loss', fontsize=16)\n",
        "    plt.xlabel('Number of Epochs', fontsize=12)\n",
        "    plt.plot(model_history.history['loss'], label='Train Loss')\n",
        "    plt.plot(model_history.history['val_loss'], label='Val Loss')\n",
        "    plt.legend()\n",
        "\n",
        "    plt.subplot(2,1,2)\n",
        "    plt.title('Model Accuracy', fontsize=16)\n",
        "    plt.xlabel('Number of Epochs', fontsize=12)\n",
        "    plt.plot(model_history.history['accuracy'], label='Train Accuracy')\n",
        "    plt.plot(model_history.history['val_accuracy'], label='Val Accuracy')\n",
        "    plt.legend()\n",
        "\n",
        "    plt.subplots_adjust(hspace=0.5) \n",
        "    plt.show()\n",
        "\n",
        "    return"
      ],
      "id": "xmeWRrTLUpEM",
      "execution_count": 8,
      "outputs": []
    },
    {
      "cell_type": "code",
      "metadata": {
        "colab": {
          "base_uri": "https://localhost:8080/",
          "height": 626
        },
        "id": "YqSt4YoaUngl",
        "outputId": "c49d5f5f-22b3-4e00-cb1d-b16cdc723807"
      },
      "source": [
        "plot_training()"
      ],
      "id": "YqSt4YoaUngl",
      "execution_count": 9,
      "outputs": [
        {
          "output_type": "display_data",
          "data": {
            "image/png": "[encoded data removed]",
            "text/plain": [
              "<Figure size 576x720 with 2 Axes>"
            ]
          },
          "metadata": {
            "needs_background": "light"
          }
        }
      ]
    },
    {
      "cell_type": "code",
      "metadata": {
        "colab": {
          "base_uri": "https://localhost:8080/"
        },
        "id": "2yzTsfGzVPwf",
        "outputId": "9408447b-1441-4d00-8c97-b888bbf1487f"
      },
      "source": [
        "model.evaluate(X_test, y_test)"
      ],
      "id": "2yzTsfGzVPwf",
      "execution_count": 10,
      "outputs": [
        {
          "output_type": "stream",
          "name": "stdout",
          "text": [
            "105/105 [==============================] - 1s 8ms/step - loss: 0.3709 - accuracy: 0.9381\n"
          ]
        },
        {
          "output_type": "execute_result",
          "data": {
            "text/plain": [
              "[0.37087899446487427, 0.938095211982727]"
            ]
          },
          "metadata": {},
          "execution_count": 10
        }
      ]
    },
    {
      "cell_type": "markdown",
      "metadata": {
        "id": "El1yOMkYvvI6"
      },
      "source": [
        "## Model Performance\n",
        "We're seeing slight improvement with this model - loss of 0.3709 and accuracy of 93.81%"
      ],
      "id": "El1yOMkYvvI6"
    },
    {
      "cell_type": "code",
      "metadata": {
        "id": "qjK6c-FPb7Zb"
      },
      "source": [
        "model.save(drive_path + 'models/cnn_2.h5')"
      ],
      "id": "qjK6c-FPb7Zb",
      "execution_count": 11,
      "outputs": []
    },
    {
      "cell_type": "code",
      "metadata": {
        "id": "VNpP0HLpei3k"
      },
      "source": [
        ""
      ],
      "id": "VNpP0HLpei3k",
      "execution_count": null,
      "outputs": []
    }
  ]
}